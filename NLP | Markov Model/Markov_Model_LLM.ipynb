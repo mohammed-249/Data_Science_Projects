{
  "nbformat": 4,
  "nbformat_minor": 0,
  "metadata": {
    "colab": {
      "provenance": []
    },
    "kernelspec": {
      "display_name": "Python 3",
      "name": "python3"
    },
    "language_info": {
      "name": "python"
    }
  },
  "cells": [
    {
      "cell_type": "markdown",
      "source": [
        "# automating laborious task in a more efficient way"
      ],
      "metadata": {
        "id": "4x4giuvURb0y"
      }
    },
    {
      "cell_type": "code",
      "source": [
        "import random\n",
        "\n",
        "def build_markov_model(text, order):\n",
        "    model = {}\n",
        "\n",
        "    for i in range(len(text) - order):\n",
        "        gram = text[i:i + order]\n",
        "        next_char = text[i + order]\n",
        "\n",
        "        if gram not in model:\n",
        "            model[gram] = []\n",
        "\n",
        "        model[gram].append(next_char)\n",
        "\n",
        "    return model\n",
        "\n",
        "def generate_text(markov_model, length, seed=None):\n",
        "    if seed is None:\n",
        "        seed = random.choice(list(markov_model.keys()))\n",
        "\n",
        "    current_gram = seed\n",
        "    result = seed\n",
        "\n",
        "    for _ in range(length - len(seed)):\n",
        "        next_char = random.choice(markov_model[current_gram])\n",
        "        result += next_char\n",
        "        current_gram = result[-len(seed):]\n",
        "\n",
        "    return result\n",
        "\n",
        "# Example usage\n",
        "input_text = \"Microsoft said Tuesday the company would comply with a preliminary ruling by Federal District Court Judge Ronald H. Whyte that Microsoft is no longer able to use the Java Compatibility Logo on its packaging and websites for Internet Explorer and Software Developers Kit for Java. We remain confident that once all the facts are presented in the larger case, the court will find Microsoft to be in full compliance with its contract with Sun, stated Tom Burt, Associate General Counsel for Microsoft Corporation. We are disappointed with this decision, but we will immediately comply with the Courts order. Microsoft has been in the forefront of helping developers use the Java programming language to write cutting-edge applications. The company has committed significant resources so that Java developers have the option of taking advantage of Windows features when writing software using the Java language. Providing the best tools and programming options will continue to be Microsofts goal. We will continue to listen to our customers and provide them the tools they need to write great software using the Java language, added Tod Nielsen, General Manager for Microsofts Developer Relations Group/Platform Marketing.\"\n",
        "order = 3\n",
        "text_length = 200\n",
        "\n",
        "model = build_markov_model(input_text, order)\n",
        "generated_text = generate_text(model, text_length)\n",
        "\n",
        "print(generated_text)\n"
      ],
      "metadata": {
        "colab": {
          "base_uri": "https://localhost:8080/"
        },
        "id": "cozwYjyrN23u",
        "outputId": "c01d1d5a-51c1-42f6-996e-2d9513db3b3e"
      },
      "execution_count": null,
      "outputs": [
        {
          "output_type": "stream",
          "name": "stdout",
          "text": [
            "hyte courts packaging so this no longer and provident of helping so the Java. Whyte to longer case, advant once all conting language this no listrict will confidented significations Group/Platform Mar\n"
          ]
        }
      ]
    },
    {
      "cell_type": "markdown",
      "source": [
        "## Building Markov Model"
      ],
      "metadata": {
        "id": "bmRGGcfJYM44"
      }
    },
    {
      "cell_type": "code",
      "source": [
        "class MarkovModel:\n",
        "    def __init__(self, text, k):\n",
        "        self.k = k\n",
        "        self.table = self.building_markov_model(text)\n",
        "\n",
        "    def building_markov_model(self, text):\n",
        "        table = {}\n",
        "        circular_text = text + text[:self.k] # Treat the text as circular\n",
        "\n",
        "        for i in range(len(text)):\n",
        "            kgram = circular_text[i:i + self.k]\n",
        "            next_char = circular_text[i + self.k]\n",
        "\n",
        "            if kgram not in table:\n",
        "                table[kgram] = {}\n",
        "\n",
        "            if next_char not in table[kgram]:\n",
        "                table[kgram][next_char] = 1\n",
        "\n",
        "            else:\n",
        "                table[kgram][next_char] += 1\n",
        "\n",
        "        return table\n",
        "\n",
        "    def order(self):\n",
        "        return self.k\n",
        "\n",
        "    def freq(self, kgram):\n",
        "        self._check_kgram_length(kgram)\n",
        "        return sum(self.table.get(kgram, {}).values())\n",
        "\n",
        "    def freq_char(self, kgram, char):\n",
        "        self._check_kgram_length(kgram)\n",
        "        return self.table.get(kgram, {}).get(char, 0)\n",
        "\n",
        "    def rand(self, kgram):\n",
        "        self._check_kgram_length(kgram)\n",
        "\n",
        "        char_freqs = self.table.get(kgram, {})\n",
        "        if not char_freqs:\n",
        "            raise ValueError(\"No such kgram found\")\n",
        "\n",
        "        total_freq = sum(char_freqs.values())\n",
        "        rand_num = random.randint(1, total_freq)\n",
        "\n",
        "        for char, freq in char_freqs.items():\n",
        "            rand_num -= freq\n",
        "            if rand_num <= 0:\n",
        "                return char\n",
        "\n",
        "    def gen(self, kgram, T):\n",
        "        self._check_kgram_length(kgram)\n",
        "\n",
        "        generated_text = kgram\n",
        "        for _ in range(T - self.k):\n",
        "            next_char = self.rand(kgram)\n",
        "            generated_text += next_char\n",
        "            kgram = kgram[1:] + next_char\n",
        "\n",
        "        return generated_text\n",
        "\n",
        "    def _check_kgram_length(self, kgram):\n",
        "        if len(kgram) != self.k:\n",
        "            raise ValueError(\"kgram must be of length k\")"
      ],
      "metadata": {
        "id": "U9widSxSY_He"
      },
      "execution_count": null,
      "outputs": []
    },
    {
      "cell_type": "code",
      "source": [
        "input_text = \"\"\"\n",
        "Microsoft said Tuesday the court will find Microsoft's goal.\n",
        "\"We will continue to listen to our customers and programming option of taking advantage of Windows features when writing software using the Java Compatibility Logo on its packaging and websites for Internet Explorer and Software using the best tools a nd programming language. Providing the Java language. Providing the Java programming language to write great software Developers Kit for Java.\n",
        "\n",
        "\"We remain confident that once all the facts are presented in the forefront of helping developers have the option of taking advantage of Windows features when writing software Developers use the Java Compatibility Logo on its packaging and websites for Internet Explorer and Software using the best tools a nd provide them the tools they need to write cutting-edge applications. The company would comply with this decision, but we will immediately comply with this decision, but we will immediately comply with a preliminary ruling by Federal District Court Judge Ronald H. Whyte that Microsoft is no longer able to use the Java language,\" added Tod Nielsen, General Manager for Microsoft's goal.\n",
        "\"\"\"\n",
        "k_value = 6"
      ],
      "metadata": {
        "id": "wYNgtOXMh9nu"
      },
      "execution_count": null,
      "outputs": []
    },
    {
      "cell_type": "code",
      "source": [
        "markov_model_test = MarkovModel(input_text, k_value)\n",
        "print(markov_model_test.order())\n",
        "print(markov_model_test.freq('ten to'))\n",
        "print(markov_model_test.freq_char('ten to', 'f'))\n",
        "print(markov_model_test.gen('ten to', 100))"
      ],
      "metadata": {
        "colab": {
          "base_uri": "https://localhost:8080/"
        },
        "id": "t-jYhuzOoBgl",
        "outputId": "88ac4cd3-48ad-4fb5-b24e-cf7b42497010"
      },
      "execution_count": null,
      "outputs": [
        {
          "output_type": "stream",
          "name": "stdout",
          "text": [
            "6\n",
            "1\n",
            "0\n",
            "ten to our customers and programming language. Providing the best tools they need to write great sof\n"
          ]
        }
      ]
    }
  ]
}